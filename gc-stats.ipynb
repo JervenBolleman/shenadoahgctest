{
 "cells": [
  {
   "cell_type": "markdown",
   "metadata": {},
   "source": [
    "#Shenandoah or G1GC: which is faster for batch loading www.uniprot.org data?\n",
    "\n",
    "www.uniprot.org is one of the wider used websites in the life-sciences. The part being benchmarked here is the loading of a representative subset of all the uniprot data into a custom key-value store and indexed by lucene. This exercises a lot of code (including native processes and JNI) and is mostly parallel with serial bottlenecks at different points. i.e. it's over 200,00 lines of in house plus another 125 jars with other stuff ;)\n",
    "\n",
    "The code used was nightly build 125 from shiplev.net (https://builds.shipilev.net/openjdk-shenandoah-jdk8/). The same code is used for both the G1GC and Shenandoah tests. The benchmark runs are interleaved back to back. i.e. we run a G1GC run then a Shenandoah run. Only differences are name of log file pattern and -XX:UseShenandoahGC or -XX:UseG1GC\n",
    "\n",
    "The hardware is dell precision 5510 running fedora 27 with 16GB of ram a 256GB xfs NVMe and i7-6700HQ CPU @ 2.60GHz\n",
    "While there is a good reason not to test on laptops for short benchmarks they dissapear when the benchmark runs for nearly 3 days. Testing on a laptop is ok but assumes no one will close the lid  while the benchmarker is not looking ;)\n",
    "That is why there are 49 Shenandoah runs, and 50 G1GC runs. One Shenandoah run was removed as outlier due to the machine being put in sleep mode. "
   ]
  },
  {
   "cell_type": "code",
   "execution_count": 1,
   "metadata": {},
   "outputs": [
    {
     "name": "stderr",
     "output_type": "stream",
     "text": [
      "\n",
      "Attaching package: 'lubridate'\n",
      "\n",
      "The following object is masked from 'package:base':\n",
      "\n",
      "    date\n",
      "\n"
     ]
    },
    {
     "data": {
      "text/plain": [
       "   Min. 1st Qu.  Median    Mean 3rd Qu.    Max. \n",
       "   2246    2299    2314    2317    2337    2418 "
      ]
     },
     "metadata": {},
     "output_type": "display_data"
    },
    {
     "data": {
      "text/plain": [
       "   Min. 1st Qu.  Median    Mean 3rd Qu.    Max. \n",
       "   2364    2418    2431    2441    2460    2545 "
      ]
     },
     "metadata": {},
     "output_type": "display_data"
    },
    {
     "data": {
      "text/plain": [
       "\n",
       "\tF test to compare two variances\n",
       "\n",
       "data:  Sseconds and Gseconds\n",
       "F = 1.1134, num df = 48, denom df = 49, p-value = 0.709\n",
       "alternative hypothesis: true ratio of variances is not equal to 1\n",
       "95 percent confidence interval:\n",
       " 0.6304874 1.9696914\n",
       "sample estimates:\n",
       "ratio of variances \n",
       "          1.113449 \n"
      ]
     },
     "metadata": {},
     "output_type": "display_data"
    },
    {
     "data": {
      "text/plain": [
       "\n",
       "\tWelch Two Sample t-test\n",
       "\n",
       "data:  Sseconds and Gseconds\n",
       "t = -15.376, df = 96.471, p-value < 2.2e-16\n",
       "alternative hypothesis: true difference in means is less than 0\n",
       "95 percent confidence interval:\n",
       "    -Inf -110.34\n",
       "sample estimates:\n",
       "mean of x mean of y \n",
       " 2316.913  2440.614 \n"
      ]
     },
     "metadata": {},
     "output_type": "display_data"
    },
    {
     "data": {
      "text/plain": [
       "\n",
       "\tWelch Two Sample t-test\n",
       "\n",
       "data:  Gseconds and Sseconds\n",
       "t = 15.376, df = 96.471, p-value = 1\n",
       "alternative hypothesis: true difference in means is less than 0\n",
       "95 percent confidence interval:\n",
       "     -Inf 137.0633\n",
       "sample estimates:\n",
       "mean of x mean of y \n",
       " 2440.614  2316.913 \n"
      ]
     },
     "metadata": {},
     "output_type": "display_data"
    },
    {
     "data": {
      "text/html": [
       "2.72638251157407"
      ],
      "text/latex": [
       "2.72638251157407"
      ],
      "text/markdown": [
       "2.72638251157407"
      ],
      "text/plain": [
       "[1] 2.726383"
      ]
     },
     "metadata": {},
     "output_type": "display_data"
    }
   ],
   "source": [
    "library(lubridate)\n",
    "\n",
    "Shenandoah <- read.csv(file=\"./shenandoah-build-125-jdk8.csv\", header=FALSE, sep=\",\")\n",
    "G1GC <- MyData <- read.csv(file=\"./g1gc-build-125-jdk8.csv\", header=FALSE, sep=\",\")\n",
    "\n",
    "Sseconds <- unlist(lapply(lapply(Shenandoah$V1, hms), as.numeric))\n",
    "Gseconds <- unlist(lapply(lapply(G1GC$V1, hms), as.numeric))\n",
    "summary(Sseconds)\n",
    "summary(Gseconds)\n",
    "\n",
    "var.test(Sseconds, Gseconds)\n",
    "\n",
    "#test if Sseconds is likely to be less (lower) than Gseconds\n",
    "t.test(Sseconds,Gseconds, alternative=\"less\")\n",
    "#test if Gseconds is likely to be less (lower) than Sseconds, sanity check\n",
    "t.test(Gseconds,Sseconds, alternative=\"less\")\n",
    "\n",
    "time_length((sum(Sseconds) +sum(Gseconds)), unit = \"days\")"
   ]
  },
  {
   "cell_type": "markdown",
   "metadata": {},
   "source": [
    "T-test shows that the eye observation of Shenandoah being faster than G1GC holds. The inverse test shows the result is sane.\n",
    "\n",
    "In our experience UseParallelGC is significantly slower than G1GC for this workload. \n",
    "The improvement of Shenandoah is roughly equivalent to upgrading from JDK8 to JDK9 and such a 4-5% improvement in performance normally costs us two to three weeks of coding."
   ]
  },
  {
   "cell_type": "markdown",
   "metadata": {},
   "source": [
    "#Shendoah/Parallel JDK10 build-126-x86-64-release\n",
    "\n",
    "This is testing a nightly for both Shenandoah and ParallelGC again from https://builds.shipilev.net/"
   ]
  },
  {
   "cell_type": "code",
   "execution_count": 8,
   "metadata": {},
   "outputs": [
    {
     "data": {
      "text/plain": [
       "   Min. 1st Qu.  Median    Mean 3rd Qu.    Max. \n",
       "   1853    1894    1904    1910    1929    2038 "
      ]
     },
     "metadata": {},
     "output_type": "display_data"
    },
    {
     "data": {
      "text/plain": [
       "   Min. 1st Qu.  Median    Mean 3rd Qu.    Max. \n",
       "   1858    1879    1889    1892    1901    1959 "
      ]
     },
     "metadata": {},
     "output_type": "display_data"
    },
    {
     "data": {
      "text/plain": [
       "\n",
       "\tF test to compare two variances\n",
       "\n",
       "data:  Sseconds and Pseconds\n",
       "F = 2.567, num df = 33, denom df = 33, p-value = 0.008282\n",
       "alternative hypothesis: true ratio of variances is not equal to 1\n",
       "95 percent confidence interval:\n",
       " 1.282032 5.139943\n",
       "sample estimates:\n",
       "ratio of variances \n",
       "          2.567016 \n"
      ]
     },
     "metadata": {},
     "output_type": "display_data"
    },
    {
     "data": {
      "text/plain": [
       "\n",
       "\tWelch Two Sample t-test\n",
       "\n",
       "data:  Sseconds and Pseconds\n",
       "t = 2.4675, df = 55.323, p-value = 0.9916\n",
       "alternative hypothesis: true difference in means is less than 0\n",
       "95 percent confidence interval:\n",
       "     -Inf 29.66454\n",
       "sample estimates:\n",
       "mean of x mean of y \n",
       " 1909.572  1891.893 \n"
      ]
     },
     "metadata": {},
     "output_type": "display_data"
    },
    {
     "data": {
      "text/plain": [
       "\n",
       "\tWelch Two Sample t-test\n",
       "\n",
       "data:  Pseconds and Sseconds\n",
       "t = -2.4675, df = 55.323, p-value = 0.008364\n",
       "alternative hypothesis: true difference in means is less than 0\n",
       "95 percent confidence interval:\n",
       "      -Inf -5.693398\n",
       "sample estimates:\n",
       "mean of x mean of y \n",
       " 1891.893  1909.572 \n"
      ]
     },
     "metadata": {},
     "output_type": "display_data"
    },
    {
     "data": {
      "text/html": [
       "1.49594663194444"
      ],
      "text/latex": [
       "1.49594663194444"
      ],
      "text/markdown": [
       "1.49594663194444"
      ],
      "text/plain": [
       "[1] 1.495947"
      ]
     },
     "metadata": {},
     "output_type": "display_data"
    },
    {
     "data": {
      "image/jpeg": "[encoded data removed]",
      "image/png": "",
      "image/svg+xml": [
       "<?xml version=\"1.0\" encoding=\"UTF-8\"?>\n",
       "<svg xmlns=\"http://www.w3.org/2000/svg\" xmlns:xlink=\"http://www.w3.org/1999/xlink\" width=\"288pt\" height=\"216pt\" viewBox=\"0 0 288 216\" version=\"1.1\">\n",
       "<defs>\n",
       "<g>\n",
       "<symbol overflow=\"visible\" id=\"glyph0-0\">\n",
       "<path style=\"stroke:none;\" d=\"\"/>\n",
       "</symbol>\n",
       "<symbol overflow=\"visible\" id=\"glyph0-1\">\n",
       "<path style=\"stroke:none;\" d=\"M 6.46875 -4.390625 C 6.46875 -7.46875 5.359375 -9.125 3.4375 -9.125 C 1.53125 -9.125 0.40625 -7.4375 0.40625 -4.46875 C 0.40625 -1.46875 1.53125 0.1875 3.4375 0.1875 C 5.3125 0.1875 6.46875 -1.46875 6.46875 -4.390625 Z M 5.078125 -4.484375 C 5.078125 -1.96875 4.640625 -0.984375 3.40625 -0.984375 C 2.25 -0.984375 1.78125 -2.03125 1.78125 -4.453125 C 1.78125 -6.875 2.25 -7.890625 3.4375 -7.890625 C 4.625 -7.890625 5.078125 -6.859375 5.078125 -4.484375 Z M 5.078125 -4.484375 \"/>\n",
       "</symbol>\n",
       "<symbol overflow=\"visible\" id=\"glyph0-2\">\n",
       "<path style=\"stroke:none;\" d=\"M 6.53125 -3.0625 C 6.53125 -4.8125 5.25 -6.09375 3.546875 -6.09375 C 2.921875 -6.09375 2.328125 -5.890625 2.09375 -5.71875 L 2.359375 -7.59375 L 6.078125 -7.59375 L 6.078125 -8.9375 L 1.25 -8.9375 L 0.546875 -4.03125 L 1.78125 -4.03125 C 2.328125 -4.6875 2.65625 -4.859375 3.34375 -4.859375 C 4.53125 -4.859375 5.15625 -4.21875 5.15625 -2.90625 C 5.15625 -1.640625 4.546875 -1.046875 3.34375 -1.046875 C 2.390625 -1.046875 1.921875 -1.40625 1.625 -2.53125 L 0.28125 -2.53125 C 0.65625 -0.640625 1.796875 0.1875 3.375 0.1875 C 5.15625 0.1875 6.53125 -1.1875 6.53125 -3.0625 Z M 6.53125 -3.0625 \"/>\n",
       "</symbol>\n",
       "<symbol overflow=\"visible\" id=\"glyph0-3\">\n",
       "<path style=\"stroke:none;\" d=\"M 4.46875 -0.125 L 4.46875 -9.125 L 3.515625 -9.125 C 3.09375 -7.625 2.96875 -7.578125 1.140625 -7.34375 L 1.140625 -6.3125 L 3.09375 -6.3125 L 3.09375 0 L 4.46875 0 Z M 4.46875 -0.125 \"/>\n",
       "</symbol>\n",
       "<symbol overflow=\"visible\" id=\"glyph0-4\">\n",
       "<path style=\"stroke:none;\" d=\"M 6.515625 -6.390625 C 6.515625 -7.890625 5.21875 -9.125 3.546875 -9.125 C 1.734375 -9.125 0.546875 -8.0625 0.484375 -5.78125 L 1.84375 -5.78125 C 1.9375 -7.40625 2.421875 -7.90625 3.515625 -7.90625 C 4.515625 -7.90625 5.125 -7.3125 5.125 -6.359375 C 5.125 -5.65625 4.75 -5.15625 3.96875 -4.703125 L 2.8125 -4.046875 C 0.96875 -3 0.390625 -2.078125 0.28125 0 L 6.453125 0 L 6.453125 -1.34375 L 1.8125 -1.34375 C 1.90625 -1.9375 2.265625 -2.3125 3.34375 -2.953125 L 4.59375 -3.625 C 5.84375 -4.28125 6.515625 -5.296875 6.515625 -6.390625 Z M 6.515625 -6.390625 \"/>\n",
       "</symbol>\n",
       "<symbol overflow=\"visible\" id=\"glyph0-5\">\n",
       "<path style=\"stroke:none;\" d=\"M 6.453125 -2.703125 C 6.453125 -3.78125 5.890625 -4.53125 4.828125 -4.90625 L 4.828125 -4.640625 C 5.65625 -4.96875 6.1875 -5.65625 6.1875 -6.546875 C 6.1875 -8.078125 5.046875 -9.125 3.359375 -9.125 C 1.578125 -9.125 0.484375 -8.015625 0.453125 -6 L 1.8125 -6 C 1.84375 -7.4375 2.25 -7.90625 3.375 -7.90625 C 4.34375 -7.90625 4.796875 -7.453125 4.796875 -6.515625 C 4.796875 -5.5625 4.53125 -5.3125 2.625 -5.3125 L 2.625 -4.125 L 3.359375 -4.125 C 4.578125 -4.125 5.0625 -3.671875 5.0625 -2.6875 C 5.0625 -1.578125 4.515625 -1.046875 3.359375 -1.046875 C 2.15625 -1.046875 1.703125 -1.515625 1.609375 -2.9375 L 0.25 -2.9375 C 0.40625 -0.828125 1.515625 0.1875 3.328125 0.1875 C 5.15625 0.1875 6.453125 -1.03125 6.453125 -2.703125 Z M 6.453125 -2.703125 \"/>\n",
       "</symbol>\n",
       "<symbol overflow=\"visible\" id=\"glyph0-6\">\n",
       "<path style=\"stroke:none;\" d=\"M 2.53125 -0.125 L 2.53125 -9.375 L 1.109375 -9.375 L 1.109375 0 L 2.53125 0 Z M 2.53125 -0.125 \"/>\n",
       "</symbol>\n",
       "<symbol overflow=\"visible\" id=\"glyph0-7\">\n",
       "<path style=\"stroke:none;\" d=\"M 6.21875 -0.125 L 6.21875 -5.078125 C 6.21875 -6.15625 5.28125 -7 4.015625 -7 C 3.03125 -7 2.3125 -6.578125 1.734375 -5.65625 L 1.96875 -5.578125 L 1.96875 -6.8125 L 0.734375 -6.8125 L 0.734375 0 L 2.03125 0 L 2.03125 -3.734375 C 2.03125 -5.078125 2.640625 -5.828125 3.703125 -5.828125 C 4.53125 -5.828125 4.90625 -5.453125 4.90625 -4.65625 L 4.90625 0 L 6.21875 0 Z M 6.21875 -0.125 \"/>\n",
       "</symbol>\n",
       "<symbol overflow=\"visible\" id=\"glyph0-8\">\n",
       "<path style=\"stroke:none;\" d=\"M 6.3125 -0.125 L 6.3125 -9.375 L 5.015625 -9.375 L 5.015625 -5.84375 L 5.234375 -5.9375 C 4.796875 -6.59375 4.015625 -7 3.140625 -7 C 1.4375 -7 0.1875 -5.546875 0.1875 -3.46875 C 0.1875 -1.25 1.40625 0.1875 3.171875 0.1875 C 4.078125 0.1875 4.78125 -0.1875 5.34375 -1 L 5.125 -1.09375 L 5.125 0 L 6.3125 0 Z M 5.015625 -3.375 C 5.015625 -1.859375 4.421875 -1.046875 3.328125 -1.046875 C 2.171875 -1.046875 1.53125 -1.875 1.53125 -3.40625 C 1.53125 -4.921875 2.171875 -5.765625 3.3125 -5.765625 C 4.4375 -5.765625 5.015625 -4.890625 5.015625 -3.375 Z M 5.015625 -3.375 \"/>\n",
       "</symbol>\n",
       "<symbol overflow=\"visible\" id=\"glyph0-9\">\n",
       "<path style=\"stroke:none;\" d=\"M 6.53125 -3.09375 C 6.53125 -4.046875 6.46875 -4.65625 6.28125 -5.140625 C 5.84375 -6.21875 4.71875 -7 3.5 -7 C 1.671875 -7 0.359375 -5.515625 0.359375 -3.359375 C 0.359375 -1.21875 1.640625 0.1875 3.46875 0.1875 C 4.96875 0.1875 6.140625 -0.78125 6.421875 -2.25 L 5.125 -2.25 C 4.796875 -1.25 4.34375 -1.03125 3.515625 -1.03125 C 2.421875 -1.03125 1.734375 -1.59375 1.71875 -2.96875 L 6.53125 -2.96875 Z M 5.390625 -3.9375 C 5.390625 -3.9375 5.203125 -4.0625 5.21875 -4.09375 L 1.75 -4.09375 C 1.828125 -5.109375 2.4375 -5.78125 3.484375 -5.78125 C 4.515625 -5.78125 5.15625 -5.046875 5.15625 -4.03125 Z M 5.390625 -3.9375 \"/>\n",
       "</symbol>\n",
       "<symbol overflow=\"visible\" id=\"glyph0-10\">\n",
       "<path style=\"stroke:none;\" d=\"M 6 -0.21875 L 3.796875 -3.515625 L 6.09375 -6.8125 L 4.59375 -6.8125 L 3.09375 -4.53125 L 1.59375 -6.8125 L 0.09375 -6.8125 L 2.359375 -3.46875 L -0.03125 0 L 1.46875 0 L 3.046875 -2.40625 L 4.625 0 L 6.15625 0 Z M 6 -0.21875 \"/>\n",
       "</symbol>\n",
       "<symbol overflow=\"visible\" id=\"glyph1-0\">\n",
       "<path style=\"stroke:none;\" d=\"\"/>\n",
       "</symbol>\n",
       "<symbol overflow=\"visible\" id=\"glyph1-1\">\n",
       "<path style=\"stroke:none;\" d=\"M -0.125 -4.46875 L -9.125 -4.46875 L -9.125 -3.515625 C -7.625 -3.09375 -7.578125 -2.96875 -7.34375 -1.140625 L -6.3125 -1.140625 L -6.3125 -3.09375 L 0 -3.09375 L 0 -4.46875 Z M -0.125 -4.46875 \"/>\n",
       "</symbol>\n",
       "<symbol overflow=\"visible\" id=\"glyph1-2\">\n",
       "<path style=\"stroke:none;\" d=\"M -2.625 -6.53125 C -3.609375 -6.53125 -4.4375 -5.90625 -4.796875 -5.140625 C -5.25 -5.890625 -5.78125 -6.21875 -6.625 -6.21875 C -8.015625 -6.21875 -9.125 -5.015625 -9.125 -3.4375 C -9.125 -1.875 -8.015625 -0.640625 -6.625 -0.640625 C -5.796875 -0.640625 -5.265625 -0.96875 -4.796875 -1.71875 C -4.4375 -0.96875 -3.609375 -0.328125 -2.640625 -0.328125 C -1.015625 -0.328125 0.1875 -1.6875 0.1875 -3.4375 C 0.1875 -5.1875 -1.015625 -6.53125 -2.625 -6.53125 Z M -6.59375 -4.84375 C -5.78125 -4.84375 -5.359375 -4.359375 -5.359375 -3.4375 C -5.359375 -2.515625 -5.78125 -2.03125 -6.609375 -2.03125 C -7.46875 -2.03125 -7.890625 -2.515625 -7.890625 -3.4375 C -7.890625 -4.375 -7.46875 -4.84375 -6.59375 -4.84375 Z M -2.609375 -5.15625 C -1.5625 -5.15625 -1.046875 -4.53125 -1.046875 -3.40625 C -1.046875 -2.34375 -1.578125 -1.71875 -2.609375 -1.71875 C -3.65625 -1.71875 -4.171875 -2.34375 -4.171875 -3.4375 C -4.171875 -4.53125 -3.65625 -5.15625 -2.609375 -5.15625 Z M -2.609375 -5.15625 \"/>\n",
       "</symbol>\n",
       "<symbol overflow=\"visible\" id=\"glyph1-3\">\n",
       "<path style=\"stroke:none;\" d=\"M -3.0625 -6.53125 C -4.8125 -6.53125 -6.09375 -5.25 -6.09375 -3.546875 C -6.09375 -2.921875 -5.890625 -2.328125 -5.71875 -2.09375 L -7.59375 -2.359375 L -7.59375 -6.078125 L -8.9375 -6.078125 L -8.9375 -1.25 L -4.03125 -0.546875 L -4.03125 -1.78125 C -4.6875 -2.328125 -4.859375 -2.65625 -4.859375 -3.34375 C -4.859375 -4.53125 -4.21875 -5.15625 -2.90625 -5.15625 C -1.640625 -5.15625 -1.046875 -4.546875 -1.046875 -3.34375 C -1.046875 -2.390625 -1.40625 -1.921875 -2.53125 -1.625 L -2.53125 -0.28125 C -0.640625 -0.65625 0.1875 -1.796875 0.1875 -3.375 C 0.1875 -5.15625 -1.1875 -6.53125 -3.0625 -6.53125 Z M -3.0625 -6.53125 \"/>\n",
       "</symbol>\n",
       "<symbol overflow=\"visible\" id=\"glyph1-4\">\n",
       "<path style=\"stroke:none;\" d=\"M -4.390625 -6.46875 C -7.46875 -6.46875 -9.125 -5.359375 -9.125 -3.4375 C -9.125 -1.53125 -7.4375 -0.40625 -4.46875 -0.40625 C -1.46875 -0.40625 0.1875 -1.53125 0.1875 -3.4375 C 0.1875 -5.3125 -1.46875 -6.46875 -4.390625 -6.46875 Z M -4.484375 -5.078125 C -1.96875 -5.078125 -0.984375 -4.640625 -0.984375 -3.40625 C -0.984375 -2.25 -2.03125 -1.78125 -4.453125 -1.78125 C -6.875 -1.78125 -7.890625 -2.25 -7.890625 -3.4375 C -7.890625 -4.625 -6.859375 -5.078125 -4.484375 -5.078125 Z M -4.484375 -5.078125 \"/>\n",
       "</symbol>\n",
       "<symbol overflow=\"visible\" id=\"glyph1-5\">\n",
       "<path style=\"stroke:none;\" d=\"M -4.765625 -6.484375 C -7.53125 -6.484375 -9.125 -5.40625 -9.125 -3.375 C -9.125 -1.6875 -7.78125 -0.34375 -6.046875 -0.34375 C -4.40625 -0.34375 -3.15625 -1.59375 -3.15625 -3.203125 C -3.15625 -4.03125 -3.5 -4.734375 -4.1875 -5.3125 L -4.28125 -5.09375 C -2.109375 -5.078125 -1.046875 -4.515625 -1.046875 -3.25 C -1.046875 -2.46875 -1.40625 -2.0625 -2.390625 -1.859375 L -2.390625 -0.5 C -0.796875 -0.734375 0.1875 -1.828125 0.1875 -3.171875 C 0.1875 -5.25 -1.703125 -6.484375 -4.765625 -6.484375 Z M -6.078125 -5.03125 C -4.984375 -5.03125 -4.40625 -4.40625 -4.40625 -3.328125 C -4.40625 -2.265625 -4.953125 -1.71875 -6.140625 -1.71875 C -7.265625 -1.71875 -7.90625 -2.34375 -7.90625 -3.359375 C -7.90625 -4.390625 -7.21875 -5.03125 -6.078125 -5.03125 Z M -6.078125 -5.03125 \"/>\n",
       "</symbol>\n",
       "<symbol overflow=\"visible\" id=\"glyph1-6\">\n",
       "<path style=\"stroke:none;\" d=\"M -0.125 -3.296875 L -1.171875 -3.296875 C -1.09375 -3.03125 -1.09375 -2.875 -1.09375 -2.671875 C -1.09375 -2.21875 -1.078125 -2.21875 -1.53125 -2.21875 L -5.703125 -2.21875 L -5.703125 -3.296875 L -6.8125 -3.296875 L -6.8125 -2.21875 L -8.609375 -2.21875 L -8.609375 -0.921875 L -6.8125 -0.921875 L -6.8125 -0.03125 L -5.703125 -0.03125 L -5.703125 -0.921875 L -1.078125 -0.921875 C -0.40625 -0.921875 0.09375 -1.515625 0.09375 -2.328125 C 0.09375 -2.578125 0.0625 -2.828125 -0.015625 -3.296875 Z M -0.125 -3.296875 \"/>\n",
       "</symbol>\n",
       "<symbol overflow=\"visible\" id=\"glyph1-7\">\n",
       "<path style=\"stroke:none;\" d=\"M -0.125 -2.03125 L -6.8125 -2.03125 L -6.8125 -0.734375 L 0 -0.734375 L 0 -2.03125 Z M -7.65625 -2.171875 L -9.09375 -2.171875 L -9.09375 -0.609375 L -7.53125 -0.609375 L -7.53125 -2.171875 Z M -7.65625 -2.171875 \"/>\n",
       "</symbol>\n",
       "<symbol overflow=\"visible\" id=\"glyph1-8\">\n",
       "<path style=\"stroke:none;\" d=\"M -0.125 -9.625 L -5.03125 -9.625 C -6.21875 -9.625 -7 -8.84375 -7 -7.625 C -7 -6.75 -6.6875 -6.125 -6.09375 -5.625 C -6.65625 -5.3125 -7 -4.703125 -7 -3.84375 C -7 -2.96875 -6.625 -2.296875 -5.84375 -1.734375 L -5.75 -1.96875 L -6.8125 -1.96875 L -6.8125 -0.75 L 0 -0.75 L 0 -2.046875 L -4.234375 -2.046875 C -5.1875 -2.046875 -5.828125 -2.609375 -5.828125 -3.46875 C -5.828125 -4.234375 -5.46875 -4.53125 -4.640625 -4.53125 L 0 -4.53125 L 0 -5.84375 L -4.234375 -5.84375 C -5.1875 -5.84375 -5.828125 -6.40625 -5.828125 -7.265625 C -5.828125 -8.03125 -5.46875 -8.328125 -4.640625 -8.328125 L 0 -8.328125 L 0 -9.625 Z M -0.125 -9.625 \"/>\n",
       "</symbol>\n",
       "<symbol overflow=\"visible\" id=\"glyph1-9\">\n",
       "<path style=\"stroke:none;\" d=\"M -3.09375 -6.53125 C -4.046875 -6.53125 -4.65625 -6.46875 -5.140625 -6.28125 C -6.21875 -5.84375 -7 -4.71875 -7 -3.5 C -7 -1.671875 -5.515625 -0.359375 -3.359375 -0.359375 C -1.21875 -0.359375 0.1875 -1.640625 0.1875 -3.46875 C 0.1875 -4.96875 -0.78125 -6.140625 -2.25 -6.421875 L -2.25 -5.125 C -1.25 -4.796875 -1.03125 -4.34375 -1.03125 -3.515625 C -1.03125 -2.421875 -1.59375 -1.734375 -2.96875 -1.71875 L -2.96875 -6.53125 Z M -3.9375 -5.390625 C -3.9375 -5.390625 -4.0625 -5.203125 -4.09375 -5.21875 L -4.09375 -1.75 C -5.109375 -1.828125 -5.78125 -2.4375 -5.78125 -3.484375 C -5.78125 -4.515625 -5.046875 -5.15625 -4.03125 -5.15625 Z M -3.9375 -5.390625 \"/>\n",
       "</symbol>\n",
       "<symbol overflow=\"visible\" id=\"glyph2-0\">\n",
       "<path style=\"stroke:none;\" d=\"\"/>\n",
       "</symbol>\n",
       "<symbol overflow=\"visible\" id=\"glyph2-1\">\n",
       "<path style=\"stroke:none;\" d=\"M 10.140625 -0.140625 L 10.140625 -0.625 C 9.78125 -0.8125 9.65625 -0.953125 9.65625 -1.4375 C 9.59375 -4.640625 9.5 -4.921875 8.109375 -5.515625 L 8.109375 -5.25 C 9.328125 -5.71875 9.984375 -6.734375 9.984375 -8.0625 C 9.984375 -9.75 8.9375 -11.140625 7.015625 -11.140625 L 1.140625 -11.140625 L 1.140625 0 L 3.46875 0 L 3.46875 -4.3125 L 6 -4.3125 C 6.96875 -4.3125 7.3125 -4.046875 7.3125 -3.140625 L 7.296875 -2 C 7.296875 -0.984375 7.359375 -0.546875 7.671875 0 L 10.140625 0 Z M 7.640625 -7.75 C 7.640625 -6.78125 7.390625 -6.4375 6.125 -6.4375 L 3.46875 -6.4375 L 3.46875 -9 L 6.125 -9 C 7.34375 -9 7.640625 -8.6875 7.640625 -7.75 Z M 7.640625 -7.75 \"/>\n",
       "</symbol>\n",
       "<symbol overflow=\"visible\" id=\"glyph2-2\">\n",
       "<path style=\"stroke:none;\" d=\"M 8.109375 -0.140625 L 8.109375 -8.3125 L 5.921875 -8.3125 L 5.921875 -3.359375 C 5.921875 -2.40625 5.3125 -1.90625 4.296875 -1.90625 C 3.40625 -1.90625 3 -2.25 3 -3.21875 L 3 -8.3125 L 0.8125 -8.3125 L 0.8125 -2.78125 C 0.8125 -1.015625 1.84375 0.140625 3.5625 0.140625 C 4.65625 0.140625 5.40625 -0.296875 5.921875 -0.984375 L 5.921875 0 L 8.109375 0 Z M 8.109375 -0.140625 \"/>\n",
       "</symbol>\n",
       "<symbol overflow=\"visible\" id=\"glyph2-3\">\n",
       "<path style=\"stroke:none;\" d=\"M 8.1875 -0.140625 L 8.1875 -5.53125 C 8.1875 -7.296875 7.15625 -8.453125 5.4375 -8.453125 C 4.359375 -8.453125 3.578125 -8 3.078125 -7.234375 L 3.078125 -8.3125 L 0.875 -8.3125 L 0.875 0 L 3.078125 0 L 3.078125 -4.96875 C 3.078125 -5.921875 3.703125 -6.40625 4.703125 -6.40625 C 5.609375 -6.40625 6 -6.046875 6 -5.09375 L 6 0 L 8.1875 0 Z M 8.1875 -0.140625 \"/>\n",
       "</symbol>\n",
       "<symbol overflow=\"visible\" id=\"glyph2-4\">\n",
       "<path style=\"stroke:none;\" d=\"M 4.53125 -0.140625 L 4.53125 -1.734375 C 4.28125 -1.703125 4.15625 -1.6875 4.015625 -1.6875 C 3.453125 -1.6875 3.375 -1.71875 3.375 -2.4375 L 3.375 -6.5 L 4.53125 -6.5 L 4.53125 -8.15625 L 3.375 -8.15625 L 3.375 -10.3125 L 1.171875 -10.3125 L 1.171875 -8.15625 L 0.15625 -8.15625 L 0.15625 -6.5 L 1.171875 -6.5 L 1.171875 -1.859375 C 1.171875 -0.59375 1.90625 0.0625 3.28125 0.0625 C 3.734375 0.0625 4.109375 0.015625 4.53125 0 Z M 4.53125 -0.140625 \"/>\n",
       "</symbol>\n",
       "<symbol overflow=\"visible\" id=\"glyph2-5\">\n",
       "<path style=\"stroke:none;\" d=\"M 3.125 -0.140625 L 3.125 -8.3125 L 0.9375 -8.3125 L 0.9375 0 L 3.125 0 Z M 3.15625 -9.15625 L 3.15625 -11.375 L 0.96875 -11.375 L 0.96875 -9.015625 L 3.15625 -9.015625 Z M 3.15625 -9.15625 \"/>\n",
       "</symbol>\n",
       "<symbol overflow=\"visible\" id=\"glyph2-6\">\n",
       "<path style=\"stroke:none;\" d=\"M 12.328125 -0.140625 L 12.328125 -5.828125 C 12.328125 -7.390625 11.328125 -8.453125 9.71875 -8.453125 C 8.703125 -8.453125 7.9375 -8.046875 7.359375 -7.28125 C 7 -7.96875 6.171875 -8.453125 5.171875 -8.453125 C 4.25 -8.453125 3.609375 -8.09375 3.015625 -7.375 L 3.015625 -8.3125 L 0.828125 -8.3125 L 0.828125 0 L 3.03125 0 L 3.03125 -4.96875 C 3.03125 -5.953125 3.515625 -6.40625 4.40625 -6.40625 C 5.109375 -6.40625 5.484375 -6.140625 5.484375 -5.5 L 5.484375 0 L 7.671875 0 L 7.671875 -4.96875 C 7.671875 -5.953125 8.171875 -6.40625 9.0625 -6.40625 C 9.765625 -6.40625 10.140625 -6.140625 10.140625 -5.5 L 10.140625 0 L 12.328125 0 Z M 12.328125 -0.140625 \"/>\n",
       "</symbol>\n",
       "<symbol overflow=\"visible\" id=\"glyph2-7\">\n",
       "<path style=\"stroke:none;\" d=\"M 7.875 -3.859375 C 7.875 -6.640625 6.421875 -8.453125 4.046875 -8.453125 C 1.75 -8.453125 0.265625 -6.75 0.265625 -4.046875 C 0.265625 -1.46875 1.734375 0.140625 4.015625 0.140625 C 5.8125 0.140625 7.3125 -0.8125 7.8125 -2.53125 L 5.671875 -2.53125 C 5.4375 -1.8125 4.84375 -1.734375 4.078125 -1.734375 C 3.09375 -1.734375 2.515625 -2.046875 2.453125 -3.46875 L 7.84375 -3.46875 Z M 5.65625 -5.125 L 2.5 -5.125 C 2.625 -6.109375 3.09375 -6.59375 4.03125 -6.59375 C 4.921875 -6.59375 5.484375 -6.140625 5.578125 -5.125 Z M 5.65625 -5.125 \"/>\n",
       "</symbol>\n",
       "<symbol overflow=\"visible\" id=\"glyph2-8\">\n",
       "<path style=\"stroke:none;\" d=\"M 7.796875 -2.515625 L 7.796875 -2.625 C 7.796875 -3.546875 7.234375 -4.375 6.171875 -4.6875 L 3.53125 -5.4375 C 2.953125 -5.609375 2.84375 -5.609375 2.84375 -5.9375 C 2.84375 -6.375 3.28125 -6.546875 4.015625 -6.546875 C 5.015625 -6.546875 5.4375 -6.3125 5.453125 -5.453125 L 7.578125 -5.453125 C 7.546875 -7.296875 6.1875 -8.453125 4.03125 -8.453125 C 1.984375 -8.453125 0.65625 -7.296875 0.65625 -5.640625 C 0.65625 -4.65625 0.984375 -3.984375 2.46875 -3.515625 L 4.96875 -2.75 C 5.484375 -2.578125 5.609375 -2.546875 5.609375 -2.328125 C 5.609375 -1.828125 5.078125 -1.78125 4.109375 -1.78125 C 3.15625 -1.78125 2.703125 -1.8125 2.484375 -2.8125 L 0.375 -2.8125 C 0.4375 -0.921875 1.78125 0.140625 4.234375 0.140625 C 6.5 0.140625 7.796875 -0.890625 7.796875 -2.515625 Z M 7.796875 -2.515625 \"/>\n",
       "</symbol>\n",
       "<symbol overflow=\"visible\" id=\"glyph2-9\">\n",
       "<path style=\"stroke:none;\" d=\"\"/>\n",
       "</symbol>\n",
       "<symbol overflow=\"visible\" id=\"glyph2-10\">\n",
       "<path style=\"stroke:none;\" d=\"M 8.53125 -4.09375 C 8.53125 -6.828125 7 -8.453125 4.484375 -8.453125 C 2.03125 -8.453125 0.46875 -6.796875 0.46875 -4.15625 C 0.46875 -1.5 2.03125 0.140625 4.5 0.140625 C 6.953125 0.140625 8.53125 -1.515625 8.53125 -4.09375 Z M 6.328125 -4.125 C 6.328125 -2.625 5.625 -1.8125 4.5 -1.8125 C 3.375 -1.8125 2.65625 -2.625 2.65625 -4.15625 C 2.65625 -5.6875 3.375 -6.5 4.5 -6.5 C 5.65625 -6.5 6.328125 -5.703125 6.328125 -4.125 Z M 6.328125 -4.125 \"/>\n",
       "</symbol>\n",
       "<symbol overflow=\"visible\" id=\"glyph2-11\">\n",
       "<path style=\"stroke:none;\" d=\"M 4.703125 -6.640625 L 4.703125 -8.15625 L 3.46875 -8.15625 L 3.46875 -8.8125 C 3.46875 -9.234375 3.609375 -9.296875 4 -9.296875 C 4.171875 -9.296875 4.40625 -9.28125 4.640625 -9.234375 L 4.640625 -11.09375 C 4.203125 -11.125 3.6875 -11.140625 3.40625 -11.140625 C 2.015625 -11.140625 1.28125 -10.34375 1.28125 -8.984375 L 1.28125 -8.15625 L 0.15625 -8.15625 L 0.15625 -6.5 L 1.28125 -6.5 L 1.28125 0 L 3.46875 0 L 3.46875 -6.5 L 4.703125 -6.5 Z M 4.703125 -6.640625 \"/>\n",
       "</symbol>\n",
       "<symbol overflow=\"visible\" id=\"glyph2-12\">\n",
       "<path style=\"stroke:none;\" d=\"M 8.59375 -4.15625 C 8.59375 -6.546875 7.296875 -8.453125 5.1875 -8.453125 C 4.171875 -8.453125 3.40625 -7.96875 3 -7.234375 L 3 -8.3125 L 0.8125 -8.3125 L 0.8125 3.25 L 3 3.25 L 3 -0.96875 C 3.40625 -0.203125 4.171875 0.140625 5.1875 0.140625 C 7.125 0.140625 8.59375 -1.71875 8.59375 -4.15625 Z M 6.40625 -4.125 C 6.40625 -2.671875 5.734375 -1.875 4.703125 -1.875 C 3.671875 -1.875 3 -2.65625 3 -4.15625 C 3 -5.671875 3.671875 -6.4375 4.703125 -6.4375 C 5.765625 -6.4375 6.40625 -5.671875 6.40625 -4.125 Z M 6.40625 -4.125 \"/>\n",
       "</symbol>\n",
       "<symbol overflow=\"visible\" id=\"glyph2-13\">\n",
       "<path style=\"stroke:none;\" d=\"M 5.5625 -6.1875 L 5.5625 -8.421875 C 5.390625 -8.453125 5.328125 -8.453125 5.265625 -8.453125 C 4.3125 -8.453125 3.40625 -7.6875 3.078125 -6.828125 L 3.078125 -8.3125 L 0.875 -8.3125 L 0.875 0 L 3.078125 0 L 3.078125 -4.40625 C 3.078125 -5.640625 3.640625 -6.109375 4.859375 -6.109375 C 5.078125 -6.109375 5.234375 -6.09375 5.5625 -6.03125 Z M 5.5625 -6.1875 \"/>\n",
       "</symbol>\n",
       "<symbol overflow=\"visible\" id=\"glyph2-14\">\n",
       "<path style=\"stroke:none;\" d=\"M 11.421875 -8.3125 L 9.234375 -8.3125 L 8.03125 -2.765625 L 6.84375 -8.3125 L 4.703125 -8.3125 L 3.5 -2.75 L 2.25 -8.3125 L -0.015625 -8.3125 L 2.328125 0 L 4.5 0 L 5.75 -5.59375 L 6.953125 0 L 9.140625 0 L 11.5 -8.3125 Z M 11.421875 -8.3125 \"/>\n",
       "</symbol>\n",
       "<symbol overflow=\"visible\" id=\"glyph2-15\">\n",
       "<path style=\"stroke:none;\" d=\"M 8.203125 -0.21875 L 5.328125 -5.109375 L 8.21875 -8.3125 L 5.609375 -8.3125 L 3.015625 -5.25 L 3.015625 -11.140625 L 0.8125 -11.140625 L 0.8125 0 L 3.015625 0 L 3.015625 -2.6875 L 3.78125 -3.53125 L 5.703125 0 L 8.328125 0 Z M 8.203125 -0.21875 \"/>\n",
       "</symbol>\n",
       "<symbol overflow=\"visible\" id=\"glyph2-16\">\n",
       "<path style=\"stroke:none;\" d=\"M 3.125 -0.140625 L 3.125 -11.140625 L 0.9375 -11.140625 L 0.9375 0 L 3.125 0 Z M 3.125 -0.140625 \"/>\n",
       "</symbol>\n",
       "<symbol overflow=\"visible\" id=\"glyph2-17\">\n",
       "<path style=\"stroke:none;\" d=\"M 7.859375 -0.140625 L 7.859375 -0.46875 C 7.46875 -0.8125 7.375 -0.953125 7.375 -1.375 L 7.375 -5.84375 C 7.375 -7.484375 6.21875 -8.453125 4.046875 -8.453125 C 1.859375 -8.453125 0.671875 -7.390625 0.53125 -5.390625 L 2.640625 -5.390625 C 2.75 -6.359375 3.0625 -6.5 4.078125 -6.5 C 4.890625 -6.5 5.234375 -6.359375 5.234375 -5.828125 C 5.234375 -4.984375 4.671875 -5.203125 3.625 -5.015625 L 2.78125 -4.875 C 1.1875 -4.59375 0.359375 -3.765625 0.359375 -2.3125 C 0.359375 -0.75 1.515625 0.140625 2.859375 0.140625 C 3.75 0.140625 4.609375 -0.28125 5.25 -0.96875 C 5.25 -0.734375 5.3125 -0.265625 5.53125 0 L 7.859375 0 Z M 5.234375 -3.578125 C 5.234375 -2.375 4.703125 -1.8125 3.640625 -1.8125 C 2.9375 -1.8125 2.546875 -1.953125 2.546875 -2.546875 C 2.546875 -3.15625 2.828125 -3.25 3.703125 -3.40625 L 4.40625 -3.546875 C 4.96875 -3.65625 5.078125 -3.71875 5.234375 -3.796875 Z M 5.234375 -3.578125 \"/>\n",
       "</symbol>\n",
       "<symbol overflow=\"visible\" id=\"glyph2-18\">\n",
       "<path style=\"stroke:none;\" d=\"M 8.171875 -0.140625 L 8.171875 -11.140625 L 5.984375 -11.140625 L 5.984375 -7.34375 C 5.546875 -8.03125 4.8125 -8.453125 3.8125 -8.453125 C 1.890625 -8.453125 0.375 -6.578125 0.375 -4.140625 C 0.375 -1.859375 1.6875 0.140625 3.8125 0.140625 C 4.8125 0.140625 5.546875 -0.265625 5.984375 -0.84375 L 5.984375 0 L 8.171875 0 Z M 5.984375 -4.109375 C 5.984375 -2.65625 5.328125 -1.875 4.28125 -1.875 C 3.234375 -1.875 2.5625 -2.671875 2.5625 -4.140625 C 2.5625 -5.640625 3.234375 -6.4375 4.28125 -6.4375 C 5.34375 -6.4375 5.984375 -5.65625 5.984375 -4.109375 Z M 5.984375 -4.109375 \"/>\n",
       "</symbol>\n",
       "<symbol overflow=\"visible\" id=\"glyph2-19\">\n",
       "<path style=\"stroke:none;\" d=\"M 8.109375 -0.140625 L 8.109375 -5.53125 C 8.109375 -7.40625 6.96875 -8.453125 5.4375 -8.453125 C 4.40625 -8.453125 3.625 -7.984375 3.125 -7.234375 L 3.125 -11.140625 L 0.9375 -11.140625 L 0.9375 0 L 3.125 0 L 3.125 -4.96875 C 3.125 -5.890625 3.75 -6.40625 4.703125 -6.40625 C 5.4375 -6.40625 5.921875 -6.140625 5.921875 -5.046875 L 5.921875 0 L 8.109375 0 Z M 8.109375 -0.140625 \"/>\n",
       "</symbol>\n",
       "<symbol overflow=\"visible\" id=\"glyph2-20\">\n",
       "<path style=\"stroke:none;\" d=\"M 10.640625 -0.140625 L 10.640625 -6.109375 L 6.1875 -6.109375 L 6.1875 -3.984375 L 8.640625 -3.984375 C 8.515625 -2.75 7.296875 -2 5.96875 -2 C 4.15625 -2 2.90625 -3.375 2.90625 -5.609375 C 2.90625 -7.9375 4.015625 -9.140625 5.90625 -9.140625 C 7.125 -9.140625 8 -8.796875 8.484375 -7.390625 L 10.65625 -7.390625 C 10.375 -9.765625 8.515625 -11.3125 5.890625 -11.3125 C 2.75 -11.3125 0.5625 -8.953125 0.5625 -5.578125 C 0.5625 -2.28125 2.765625 0.171875 5.703125 0.171875 C 7.171875 0.171875 8.1875 -0.375 8.953125 -1.453125 L 9.234375 0 L 10.640625 0 Z M 10.640625 -0.140625 \"/>\n",
       "</symbol>\n",
       "<symbol overflow=\"visible\" id=\"glyph2-21\">\n",
       "<path style=\"stroke:none;\" d=\"M 10.203125 -3.984375 L 7.984375 -3.984375 C 7.84375 -2.453125 7.015625 -1.96875 5.640625 -1.96875 C 3.90625 -1.96875 2.9375 -3.15625 2.9375 -5.53125 C 2.9375 -7.9375 3.953125 -9.140625 5.703125 -9.140625 C 6.921875 -9.140625 7.640625 -8.71875 8 -7.1875 L 10.203125 -7.1875 C 10.015625 -9.828125 8.078125 -11.3125 5.640625 -11.3125 C 2.5625 -11.3125 0.59375 -9.078125 0.59375 -5.5625 C 0.59375 -2.078125 2.546875 0.171875 5.578125 0.171875 C 8.265625 0.171875 10.125 -1.359375 10.25 -3.984375 Z M 10.203125 -3.984375 \"/>\n",
       "</symbol>\n",
       "</g>\n",
       "</defs>\n",
       "<g id=\"surface439\">\n",
       "<rect x=\"0\" y=\"0\" width=\"288\" height=\"216\" style=\"fill:rgb(100%,100%,100%);fill-opacity:1;stroke:none;\"/>\n",
       "<path style=\"fill:none;stroke-width:1;stroke-linecap:round;stroke-linejoin:round;stroke:rgb(100%,0%,0%);stroke-opacity:1;stroke-miterlimit:10;\" d=\"M 66.398438 139.464844 L 71.976562 137.621094 L 77.550781 137.019531 L 83.128906 131.109375 L 88.703125 131.085938 L 94.277344 130.09375 L 99.855469 129.191406 L 105.429688 128.171875 L 111.007812 122.449219 L 116.582031 122.246094 L 122.15625 121.230469 L 127.734375 121.191406 L 133.308594 121.023438 L 138.886719 120.9375 L 144.460938 120.914062 L 150.035156 120.28125 L 155.613281 118.558594 L 161.1875 117.8125 L 166.761719 117.523438 L 172.339844 117.007812 L 177.914062 112.210938 L 183.492188 111.742188 L 189.066406 109.011719 L 194.640625 108.492188 L 200.21875 108.234375 L 205.792969 107.605469 L 211.371094 106.816406 L 216.945312 106.648438 L 222.519531 106.4375 L 228.097656 103.46875 L 233.671875 102.4375 L 239.25 97.609375 L 244.824219 93.109375 L 250.398438 62.132812 \"/>\n",
       "<path style=\"fill:none;stroke-width:1;stroke-linecap:round;stroke-linejoin:round;stroke:rgb(0%,0%,0%);stroke-opacity:1;stroke-miterlimit:10;\" d=\"M 60.824219 142.558594 L 255.976562 142.558594 \"/>\n",
       "<path style=\"fill:none;stroke-width:1;stroke-linecap:round;stroke-linejoin:round;stroke:rgb(0%,0%,0%);stroke-opacity:1;stroke-miterlimit:10;\" d=\"M 60.824219 142.558594 L 60.824219 149.761719 \"/>\n",
       "<path style=\"fill:none;stroke-width:1;stroke-linecap:round;stroke-linejoin:round;stroke:rgb(0%,0%,0%);stroke-opacity:1;stroke-miterlimit:10;\" d=\"M 88.703125 142.558594 L 88.703125 149.761719 \"/>\n",
       "<path style=\"fill:none;stroke-width:1;stroke-linecap:round;stroke-linejoin:round;stroke:rgb(0%,0%,0%);stroke-opacity:1;stroke-miterlimit:10;\" d=\"M 116.582031 142.558594 L 116.582031 149.761719 \"/>\n",
       "<path style=\"fill:none;stroke-width:1;stroke-linecap:round;stroke-linejoin:round;stroke:rgb(0%,0%,0%);stroke-opacity:1;stroke-miterlimit:10;\" d=\"M 144.460938 142.558594 L 144.460938 149.761719 \"/>\n",
       "<path style=\"fill:none;stroke-width:1;stroke-linecap:round;stroke-linejoin:round;stroke:rgb(0%,0%,0%);stroke-opacity:1;stroke-miterlimit:10;\" d=\"M 172.339844 142.558594 L 172.339844 149.761719 \"/>\n",
       "<path style=\"fill:none;stroke-width:1;stroke-linecap:round;stroke-linejoin:round;stroke:rgb(0%,0%,0%);stroke-opacity:1;stroke-miterlimit:10;\" d=\"M 200.21875 142.558594 L 200.21875 149.761719 \"/>\n",
       "<path style=\"fill:none;stroke-width:1;stroke-linecap:round;stroke-linejoin:round;stroke:rgb(0%,0%,0%);stroke-opacity:1;stroke-miterlimit:10;\" d=\"M 228.097656 142.558594 L 228.097656 149.761719 \"/>\n",
       "<path style=\"fill:none;stroke-width:1;stroke-linecap:round;stroke-linejoin:round;stroke:rgb(0%,0%,0%);stroke-opacity:1;stroke-miterlimit:10;\" d=\"M 255.976562 142.558594 L 255.976562 149.761719 \"/>\n",
       "<g style=\"fill:rgb(0%,0%,0%);fill-opacity:1;\">\n",
       "  <use xlink:href=\"#glyph0-1\" x=\"57.347656\" y=\"169.921875\"/>\n",
       "</g>\n",
       "<g style=\"fill:rgb(0%,0%,0%);fill-opacity:1;\">\n",
       "  <use xlink:href=\"#glyph0-2\" x=\"85.226562\" y=\"169.921875\"/>\n",
       "</g>\n",
       "<g style=\"fill:rgb(0%,0%,0%);fill-opacity:1;\">\n",
       "  <use xlink:href=\"#glyph0-3\" x=\"109.632812\" y=\"169.921875\"/>\n",
       "  <use xlink:href=\"#glyph0-1\" x=\"116.58284\" y=\"169.921875\"/>\n",
       "</g>\n",
       "<g style=\"fill:rgb(0%,0%,0%);fill-opacity:1;\">\n",
       "  <use xlink:href=\"#glyph0-3\" x=\"137.511719\" y=\"169.921875\"/>\n",
       "  <use xlink:href=\"#glyph0-2\" x=\"144.461746\" y=\"169.921875\"/>\n",
       "</g>\n",
       "<g style=\"fill:rgb(0%,0%,0%);fill-opacity:1;\">\n",
       "  <use xlink:href=\"#glyph0-4\" x=\"165.390625\" y=\"169.921875\"/>\n",
       "  <use xlink:href=\"#glyph0-1\" x=\"172.340652\" y=\"169.921875\"/>\n",
       "</g>\n",
       "<g style=\"fill:rgb(0%,0%,0%);fill-opacity:1;\">\n",
       "  <use xlink:href=\"#glyph0-4\" x=\"193.269531\" y=\"169.921875\"/>\n",
       "  <use xlink:href=\"#glyph0-2\" x=\"200.219559\" y=\"169.921875\"/>\n",
       "</g>\n",
       "<g style=\"fill:rgb(0%,0%,0%);fill-opacity:1;\">\n",
       "  <use xlink:href=\"#glyph0-5\" x=\"221.148438\" y=\"169.921875\"/>\n",
       "  <use xlink:href=\"#glyph0-1\" x=\"228.098465\" y=\"169.921875\"/>\n",
       "</g>\n",
       "<g style=\"fill:rgb(0%,0%,0%);fill-opacity:1;\">\n",
       "  <use xlink:href=\"#glyph0-5\" x=\"249.027344\" y=\"169.921875\"/>\n",
       "  <use xlink:href=\"#glyph0-2\" x=\"255.977371\" y=\"169.921875\"/>\n",
       "</g>\n",
       "<path style=\"fill:none;stroke-width:1;stroke-linecap:round;stroke-linejoin:round;stroke:rgb(0%,0%,0%);stroke-opacity:1;stroke-miterlimit:10;\" d=\"M 59.039062 140.933594 L 59.039062 77.925781 \"/>\n",
       "<path style=\"fill:none;stroke-width:1;stroke-linecap:round;stroke-linejoin:round;stroke:rgb(0%,0%,0%);stroke-opacity:1;stroke-miterlimit:10;\" d=\"M 59.039062 140.933594 L 51.839844 140.933594 \"/>\n",
       "<path style=\"fill:none;stroke-width:1;stroke-linecap:round;stroke-linejoin:round;stroke:rgb(0%,0%,0%);stroke-opacity:1;stroke-miterlimit:10;\" d=\"M 59.039062 119.929688 L 51.839844 119.929688 \"/>\n",
       "<path style=\"fill:none;stroke-width:1;stroke-linecap:round;stroke-linejoin:round;stroke:rgb(0%,0%,0%);stroke-opacity:1;stroke-miterlimit:10;\" d=\"M 59.039062 98.925781 L 51.839844 98.925781 \"/>\n",
       "<path style=\"fill:none;stroke-width:1;stroke-linecap:round;stroke-linejoin:round;stroke:rgb(0%,0%,0%);stroke-opacity:1;stroke-miterlimit:10;\" d=\"M 59.039062 77.925781 L 51.839844 77.925781 \"/>\n",
       "<g style=\"fill:rgb(0%,0%,0%);fill-opacity:1;\">\n",
       "  <use xlink:href=\"#glyph1-1\" x=\"43.199219\" y=\"154.832031\"/>\n",
       "  <use xlink:href=\"#glyph1-2\" x=\"43.199219\" y=\"147.882004\"/>\n",
       "  <use xlink:href=\"#glyph1-3\" x=\"43.199219\" y=\"140.931976\"/>\n",
       "  <use xlink:href=\"#glyph1-4\" x=\"43.199219\" y=\"133.981949\"/>\n",
       "</g>\n",
       "<g style=\"fill:rgb(0%,0%,0%);fill-opacity:1;\">\n",
       "  <use xlink:href=\"#glyph1-1\" x=\"43.199219\" y=\"112.824219\"/>\n",
       "  <use xlink:href=\"#glyph1-5\" x=\"43.199219\" y=\"105.874191\"/>\n",
       "  <use xlink:href=\"#glyph1-3\" x=\"43.199219\" y=\"98.924164\"/>\n",
       "  <use xlink:href=\"#glyph1-4\" x=\"43.199219\" y=\"91.974136\"/>\n",
       "</g>\n",
       "<path style=\"fill:none;stroke-width:1;stroke-linecap:round;stroke-linejoin:round;stroke:rgb(0%,0%,0%);stroke-opacity:1;stroke-miterlimit:10;\" d=\"M 59.039062 142.558594 L 257.761719 142.558594 L 257.761719 59.039062 L 59.039062 59.039062 L 59.039062 142.558594 \"/>\n",
       "<g style=\"fill:rgb(0%,0%,0%);fill-opacity:1;\">\n",
       "  <use xlink:href=\"#glyph2-1\" x=\"-24.632812\" y=\"35.089844\"/>\n",
       "  <use xlink:href=\"#glyph2-2\" x=\"-13.87056\" y=\"35.089844\"/>\n",
       "  <use xlink:href=\"#glyph2-3\" x=\"-4.762894\" y=\"35.089844\"/>\n",
       "  <use xlink:href=\"#glyph2-4\" x=\"4.344772\" y=\"35.089844\"/>\n",
       "  <use xlink:href=\"#glyph2-5\" x=\"9.308533\" y=\"35.089844\"/>\n",
       "  <use xlink:href=\"#glyph2-6\" x=\"13.452454\" y=\"35.089844\"/>\n",
       "  <use xlink:href=\"#glyph2-7\" x=\"26.704041\" y=\"35.089844\"/>\n",
       "  <use xlink:href=\"#glyph2-8\" x=\"34.991867\" y=\"35.089844\"/>\n",
       "  <use xlink:href=\"#glyph2-9\" x=\"43.279694\" y=\"35.089844\"/>\n",
       "  <use xlink:href=\"#glyph2-10\" x=\"47.423615\" y=\"35.089844\"/>\n",
       "  <use xlink:href=\"#glyph2-11\" x=\"56.531281\" y=\"35.089844\"/>\n",
       "  <use xlink:href=\"#glyph2-9\" x=\"61.495041\" y=\"35.089844\"/>\n",
       "  <use xlink:href=\"#glyph2-2\" x=\"65.638962\" y=\"35.089844\"/>\n",
       "  <use xlink:href=\"#glyph2-3\" x=\"74.746628\" y=\"35.089844\"/>\n",
       "  <use xlink:href=\"#glyph2-5\" x=\"83.854294\" y=\"35.089844\"/>\n",
       "  <use xlink:href=\"#glyph2-12\" x=\"87.998215\" y=\"35.089844\"/>\n",
       "  <use xlink:href=\"#glyph2-13\" x=\"97.105881\" y=\"35.089844\"/>\n",
       "  <use xlink:href=\"#glyph2-10\" x=\"102.904373\" y=\"35.089844\"/>\n",
       "  <use xlink:href=\"#glyph2-4\" x=\"112.012039\" y=\"35.089844\"/>\n",
       "  <use xlink:href=\"#glyph2-9\" x=\"116.9758\" y=\"35.089844\"/>\n",
       "  <use xlink:href=\"#glyph2-4\" x=\"121.11972\" y=\"35.089844\"/>\n",
       "  <use xlink:href=\"#glyph2-7\" x=\"126.083481\" y=\"35.089844\"/>\n",
       "  <use xlink:href=\"#glyph2-8\" x=\"134.371307\" y=\"35.089844\"/>\n",
       "  <use xlink:href=\"#glyph2-4\" x=\"142.659134\" y=\"35.089844\"/>\n",
       "  <use xlink:href=\"#glyph2-9\" x=\"147.622894\" y=\"35.089844\"/>\n",
       "  <use xlink:href=\"#glyph2-14\" x=\"151.766815\" y=\"35.089844\"/>\n",
       "  <use xlink:href=\"#glyph2-10\" x=\"163.363815\" y=\"35.089844\"/>\n",
       "  <use xlink:href=\"#glyph2-13\" x=\"172.471481\" y=\"35.089844\"/>\n",
       "  <use xlink:href=\"#glyph2-15\" x=\"178.269974\" y=\"35.089844\"/>\n",
       "  <use xlink:href=\"#glyph2-16\" x=\"186.5578\" y=\"35.089844\"/>\n",
       "  <use xlink:href=\"#glyph2-10\" x=\"190.701721\" y=\"35.089844\"/>\n",
       "  <use xlink:href=\"#glyph2-17\" x=\"199.809387\" y=\"35.089844\"/>\n",
       "  <use xlink:href=\"#glyph2-18\" x=\"208.097214\" y=\"35.089844\"/>\n",
       "  <use xlink:href=\"#glyph2-9\" x=\"217.20488\" y=\"35.089844\"/>\n",
       "  <use xlink:href=\"#glyph2-14\" x=\"221.348801\" y=\"35.089844\"/>\n",
       "  <use xlink:href=\"#glyph2-5\" x=\"232.945801\" y=\"35.089844\"/>\n",
       "  <use xlink:href=\"#glyph2-4\" x=\"237.089722\" y=\"35.089844\"/>\n",
       "  <use xlink:href=\"#glyph2-19\" x=\"242.053482\" y=\"35.089844\"/>\n",
       "  <use xlink:href=\"#glyph2-9\" x=\"251.161148\" y=\"35.089844\"/>\n",
       "  <use xlink:href=\"#glyph2-18\" x=\"255.305069\" y=\"35.089844\"/>\n",
       "  <use xlink:href=\"#glyph2-5\" x=\"264.412735\" y=\"35.089844\"/>\n",
       "  <use xlink:href=\"#glyph2-11\" x=\"268.556656\" y=\"35.089844\"/>\n",
       "  <use xlink:href=\"#glyph2-11\" x=\"273.520416\" y=\"35.089844\"/>\n",
       "  <use xlink:href=\"#glyph2-7\" x=\"278.484177\" y=\"35.089844\"/>\n",
       "  <use xlink:href=\"#glyph2-13\" x=\"286.772003\" y=\"35.089844\"/>\n",
       "  <use xlink:href=\"#glyph2-7\" x=\"292.570496\" y=\"35.089844\"/>\n",
       "  <use xlink:href=\"#glyph2-3\" x=\"300.858322\" y=\"35.089844\"/>\n",
       "  <use xlink:href=\"#glyph2-4\" x=\"309.965988\" y=\"35.089844\"/>\n",
       "  <use xlink:href=\"#glyph2-9\" x=\"314.929749\" y=\"35.089844\"/>\n",
       "  <use xlink:href=\"#glyph2-20\" x=\"319.073669\" y=\"35.089844\"/>\n",
       "  <use xlink:href=\"#glyph2-21\" x=\"330.67067\" y=\"35.089844\"/>\n",
       "</g>\n",
       "<g style=\"fill:rgb(0%,0%,0%);fill-opacity:1;\">\n",
       "  <use xlink:href=\"#glyph0-6\" x=\"143.109375\" y=\"198.71875\"/>\n",
       "  <use xlink:href=\"#glyph0-7\" x=\"146.584381\" y=\"198.71875\"/>\n",
       "  <use xlink:href=\"#glyph0-8\" x=\"153.534409\" y=\"198.71875\"/>\n",
       "  <use xlink:href=\"#glyph0-9\" x=\"160.484436\" y=\"198.71875\"/>\n",
       "  <use xlink:href=\"#glyph0-10\" x=\"167.434464\" y=\"198.71875\"/>\n",
       "</g>\n",
       "<g style=\"fill:rgb(0%,0%,0%);fill-opacity:1;\">\n",
       "  <use xlink:href=\"#glyph1-6\" x=\"14.398438\" y=\"112.605469\"/>\n",
       "  <use xlink:href=\"#glyph1-7\" x=\"14.398438\" y=\"109.130463\"/>\n",
       "  <use xlink:href=\"#glyph1-8\" x=\"14.398438\" y=\"106.355453\"/>\n",
       "  <use xlink:href=\"#glyph1-9\" x=\"14.398438\" y=\"95.942917\"/>\n",
       "</g>\n",
       "<path style=\"fill:none;stroke-width:1;stroke-linecap:round;stroke-linejoin:round;stroke:rgb(0%,100%,0%);stroke-opacity:1;stroke-miterlimit:10;\" d=\"M 66.398438 137.394531 L 71.976562 136.777344 L 77.550781 136.414062 L 83.128906 133.175781 L 88.703125 131.167969 L 94.277344 130.613281 L 99.855469 129.914062 L 105.429688 129.179688 L 111.007812 129.121094 L 116.582031 128.246094 L 122.15625 128.074219 L 127.734375 127.476562 L 133.308594 127.085938 L 138.886719 126.820312 L 144.460938 126.191406 L 150.035156 125.886719 L 155.613281 124.988281 L 161.1875 124.359375 L 166.761719 123.21875 L 172.339844 123.066406 L 177.914062 123.023438 L 183.492188 121.796875 L 189.066406 121.007812 L 194.640625 120.839844 L 200.21875 120.335938 L 205.792969 119.386719 L 211.371094 118.992188 L 216.945312 118.417969 L 222.519531 118.363281 L 228.097656 116.816406 L 233.671875 111.707031 L 239.25 109.507812 L 244.824219 98.941406 L 250.398438 95.078125 \"/>\n",
       "</g>\n",
       "</svg>\n"
      ]
     },
     "metadata": {
      "image/svg+xml": {
       "isolated": true
      }
     },
     "output_type": "display_data"
    }
   ],
   "source": [
    "library(lubridate)\n",
    "\n",
    "Shenandoah <- read.csv(file=\"./shenandoah-build-126-jdk10.csv\", header=FALSE, sep=\",\")\n",
    "Parallel <- MyData <- read.csv(file=\"./parallelgc-build-126-jdk10.csv\", header=FALSE, sep=\",\")\n",
    "\n",
    "Sseconds <- unlist(lapply(lapply(Shenandoah$V1, hms), as.numeric))\n",
    "Pseconds <- unlist(lapply(lapply(Parallel$V1, hms), as.numeric))\n",
    "summary(Sseconds)\n",
    "summary(Pseconds)\n",
    "\n",
    "var.test(Sseconds, Pseconds)\n",
    "\n",
    "#test if Sseconds is likely to be less (lower) than Gseconds\n",
    "t.test(Sseconds,Pseconds, alternative=\"less\")\n",
    "#test if Gseconds is likely to be less (lower) than Sseconds, sanity check\n",
    "t.test(Pseconds,Sseconds, alternative=\"less\")\n",
    "\n",
    "time_length((sum(Sseconds) +sum(Pseconds)), unit = \"days\")\n",
    "\n",
    "OrderedSseconds <- sort(Sseconds)\n",
    "OrderedPseconds <- sort(Pseconds)\n",
    "\n",
    "\n",
    "plot(OrderedSseconds, type=\"l\", col=\"red\", main=\"Runtimes of uniprot test workload with different GC\", ylab=\"time\")\n",
    "    lines(OrderedPseconds, col=\"green\")\n",
    "    \n"
   ]
  },
  {
   "cell_type": "code",
   "execution_count": null,
   "metadata": {},
   "outputs": [],
   "source": []
  }
 ],
 "metadata": {
  "kernelspec": {
   "display_name": "R",
   "language": "R",
   "name": "r"
  },
  "language_info": {
   "codemirror_mode": "r",
   "file_extension": ".r",
   "mimetype": "text/x-r-source",
   "name": "R",
   "pygments_lexer": "r",
   "version": "3.4.1"
  }
 },
 "nbformat": 4,
 "nbformat_minor": 2
}
